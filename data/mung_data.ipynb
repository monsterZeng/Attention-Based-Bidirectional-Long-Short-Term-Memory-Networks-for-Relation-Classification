{
 "cells": [
  {
   "cell_type": "code",
   "execution_count": 7,
   "metadata": {},
   "outputs": [],
   "source": [
    "import codecs\n",
    "import sys\n",
    "import pandas as pd\n",
    "import numpy as np\n",
    "from argparse import Namespace\n",
    "from collections import defaultdict"
   ]
  },
  {
   "cell_type": "code",
   "execution_count": 8,
   "metadata": {},
   "outputs": [],
   "source": [
    "args = Namespace(\n",
    "    raw_dataset=\"train.txt\",\n",
    "    train_proportion=0.7,\n",
    "    val_proportion=0.15,\n",
    "    test_proportion=0.15,\n",
    "    output_munged_csv=\"train_with_splits.csv\",\n",
    "    seed=1337)\n",
    "np.random.seed(args.seed)"
   ]
  },
  {
   "cell_type": "code",
   "execution_count": 9,
   "metadata": {
    "tags": []
   },
   "outputs": [],
   "source": [
    "datas = defaultdict(list)\n",
    "count = 0\n",
    "with open(args.raw_dataset, mode = \"r\", encoding=\"utf - 8\") as fp:\n",
    "    for line in fp.readlines():\n",
    "        line_list = line.strip().split()\n",
    "        datas[\"entity_1\"].append(line_list[0])\n",
    "        datas[\"entity_2\"].append(line_list[1])\n",
    "        datas[\"relation\"].append(line_list[2])\n",
    "        datas[\"sequence\"].append(str(line_list[3]))"
   ]
  },
  {
   "cell_type": "code",
   "execution_count": 11,
   "metadata": {
    "tags": []
   },
   "outputs": [
    {
     "output_type": "stream",
     "name": "stdout",
     "text": "200000\n"
    }
   ],
   "source": [
    "n = len(datas['entity_1'])\n",
    "print(n)"
   ]
  },
  {
   "cell_type": "code",
   "execution_count": 12,
   "metadata": {},
   "outputs": [],
   "source": [
    "# Create split data\n",
    "np.random.seed(args.seed)\n",
    "n = len(datas['entity_1'])\n",
    "n_train = int(args.train_proportion*n)\n",
    "n_val = int(args.val_proportion*n)\n",
    "n_test = int(args.test_proportion*n)\n",
    "\n",
    "for index in range(n):\n",
    "    if index < n_train:\n",
    "        datas['split'].append('train')\n",
    "    elif n_train <= index and index <= n_train + n_val:\n",
    "        datas['split'].append('val')\n",
    "    else:\n",
    "        datas['split'].append('test')"
   ]
  },
  {
   "cell_type": "code",
   "execution_count": 13,
   "metadata": {
    "tags": []
   },
   "outputs": [
    {
     "output_type": "stream",
     "name": "stdout",
     "text": "entity_1 entity_2 relation  \\\n0      朱时茂      陈佩斯       合作   \n1        女      卢润森  unknown   \n2      侯佩岑      黄伯俊       夫妻   \n3       李敖      王尚勤       夫妻   \n4      傅家俊      丁俊晖       好友   \n\n                                            sequence  split  \n0  《水与火的缠绵》《低头不见抬头见》《天剑群侠》小品陈佩斯与朱时茂1984年《吃面条》合作者：...  train  \n1   卢恬儿是现任香港南华体育会主席卢润森的千金，身为南华会太子女的卢恬儿是名门之后，身家丰厚，她长相  train  \n2  场照片事后将发给媒体，避免采访时出现混乱，[3]举行婚礼侯佩岑黄伯俊婚纱照2011年4月17...  train  \n3                  李敖后来也认为，“任何当过王尚勤女朋友的人，未来的婚姻都是不幸的！  train  \n4  改写23年历史2010年10月29日，傅家俊1-5输给丁俊晖，这是联盟杯历史上首次出现了中国...  train  \n"
    }
   ],
   "source": [
    "datas = pd.DataFrame(datas)\n",
    "print(datas.head())"
   ]
  },
  {
   "cell_type": "code",
   "execution_count": 14,
   "metadata": {},
   "outputs": [],
   "source": [
    "# Write munged data to CSV\n",
    "datas.to_csv(args.output_munged_csv, index=False)"
   ]
  },
  {
   "cell_type": "code",
   "execution_count": 15,
   "metadata": {},
   "outputs": [],
   "source": [
    "data = pd.read_csv(\"train_with_splits.csv\")"
   ]
  },
  {
   "cell_type": "code",
   "execution_count": 16,
   "metadata": {},
   "outputs": [
    {
     "output_type": "execute_result",
     "data": {
      "text/plain": "train    140000\nval       30001\ntest      29999\nName: split, dtype: int64"
     },
     "metadata": {},
     "execution_count": 16
    }
   ],
   "source": [
    "data.split.value_counts()"
   ]
  },
  {
   "cell_type": "code",
   "execution_count": null,
   "metadata": {},
   "outputs": [],
   "source": []
  }
 ],
 "metadata": {
  "language_info": {
   "codemirror_mode": {
    "name": "ipython",
    "version": 3
   },
   "file_extension": ".py",
   "mimetype": "text/x-python",
   "name": "python",
   "nbconvert_exporter": "python",
   "pygments_lexer": "ipython3",
   "version": "3.6.8-final"
  },
  "orig_nbformat": 2,
  "kernelspec": {
   "name": "python36864bita7854d764258453a80e40464eef3e854",
   "display_name": "Python 3.6.8 64-bit"
  }
 },
 "nbformat": 4,
 "nbformat_minor": 2
}